{
 "cells": [
  {
   "cell_type": "markdown",
   "id": "d9d036c6",
   "metadata": {},
   "source": [
    "# Problemas de prueba de hipótesis"
   ]
  },
  {
   "cell_type": "markdown",
   "id": "d157c4db",
   "metadata": {},
   "source": [
    "## Ejercicio 1\n",
    "\n",
    "Usted es un nutricionista que investiga dos tipos diferentes de dietas para ver si existe una diferencia significativa en la pérdida de peso después de un mes. Eliges dos grupos aleatorios de personas; un grupo sigue la primera dieta y el otro sigue la segunda. Al final del mes, se registra la pérdida de peso (en kg) de cada persona:\n",
    "\n",
    "| Diet 1 | Diet 2 |\n",
    "|:-------|:-------|\n",
    "| 2.0 | 3.0 |\n",
    "| 2.5 | 3.2 |\n",
    "| 3.0 | 3.1 |\n",
    "| 2.8 | 2.9 |\n",
    "| 2.3 | 2.8 |\n",
    "| 2.7 | 3.0 |\n",
    "| 2.5 | 3.2 |\n",
    "\n",
    "Con estos datos se busca responder a la siguiente pregunta: ¿Existe una diferencia significativa en la pérdida de peso promedio entre las personas que siguieron la primera dieta y las que siguieron la segunda dieta?\n",
    "\n",
    "Para sacar conclusiones, siga los siguientes puntos:\n",
    "\n",
    "-Enunciar la hipótesis: hipótesis nula y alternativa.\n",
    "-Realizar la prueba para comprobar la hipótesis. Puede utilizar la prueba t de Student.\n",
    "-Analizar las conclusiones."
   ]
  },
  {
   "cell_type": "code",
   "execution_count": 97,
   "id": "8e0f3cf0",
   "metadata": {},
   "outputs": [
    {
     "name": "stdout",
     "output_type": "stream",
     "text": [
      "T_stat:  -3.5383407969933938\n",
      "P_value : 0.004083270191713912 , rechazamos la hipótesis nula.\n",
      "-La dieta 1 tiene una media de pérdida de peso de  2.542857142857143\n",
      "-La dieta 2 tiene una media de pérdida de peso de  3.0285714285714285\n",
      "-Hay una diferencia significativa, como hemos podido comprobar con el p_valor menor que 5 y luego calculando la media de pérdida de peso de cada dieta.\n"
     ]
    }
   ],
   "source": [
    "#Hipótesis nula = no hay diferencia entre las dietas\n",
    "#Hipotésis alternativa = hay diferencia entre las dietas\n",
    "\n",
    "import numpy as np\n",
    "import scipy.stats as stats\n",
    "\n",
    "# Datos, los hacemos lista para poder comprobar las hipótesis\n",
    "\n",
    "dieta_1 = [2.0, 2.5, 3.0, 2.8, 2.3, 2.7, 2.5]\n",
    "dieta_2 = [3.0, 3.2, 3.1, 2.9, 2.8, 3.0, 3.2]\n",
    "\n",
    "#El t-stat: una medida de \"cuán diferentes\" son los promedios de cada dieta. Si el valor de t_stat es muy alto o muy bajo, eso significa que hay una diferencia considerable entre las dietas.\n",
    "# El p-valor: Esta es la probabilidad de que la diferencia observada ocurra por casualidad. \n",
    "# Si es bajo (< 0.05): significa que hay menos de un 5% de probabilidad de que la diferencia sea suerte.\n",
    "# Si es alto (>= 0.05): Si es alto, eso nos dice que no tenemos las evidencias suficentes para decir que no es casualidad \n",
    "\n",
    "\n",
    "\n",
    "t_stat, p_valor = stats.ttest_ind(dieta_1, dieta_2)\n",
    "print(f\"T_stat: \", (t_stat))\n",
    "print(f\"P_value :\", p_valor, \", rechazamos la hipótesis nula.\")\n",
    "\n",
    "print(f\"-La dieta 1 tiene una media de pérdida de peso de \", (np.mean(dieta_1)))\n",
    "print(f\"-La dieta 2 tiene una media de pérdida de peso de \", (np.mean(dieta_2)))\n",
    "print(\"-Hay una diferencia significativa, como hemos podido comprobar con el p_valor menor que 5 y luego calculando la media de pérdida de peso de cada dieta.\")\n"
   ]
  },
  {
   "cell_type": "markdown",
   "id": "f432e18e",
   "metadata": {},
   "source": [
    "## ANOVA\n",
    "\n",
    "**ANOVA** (*Analysis of Variance - Análisis de variación*) Es una técnica estadística utilizada para comparar las medidas de dos o más grupos. La idea detrás de ANOVA es descomponer la variabilidad total de los datos en dos componentes: variabilidad entre grupos y variabilidad dentro de los grupos:\n",
    "\n",
    "- **Variabilidad entre grupos**: Esta variabilidad se refiere a las diferencias entre las medias del grupo. Si esta variabilidad es considerablemente mayor que la variabilidad dentro del grupo, podría ser una indicación de que al menos una de las medias del grupo es diferente.\n",
    "- **Variabilidad dentro del grupo**: Esta variabilidad se refiere a la dispersión de los datos dentro de cada grupo. Si todos los grupos tienen una variabilidad similar, entonces cualquier diferencia notable en las medias de los grupos podría considerarse significativa.\n",
    "\n",
    "Las hipótesis en ANOVA suelen incluir:\n",
    "\n",
    "- **Hipótesis nula** ($H₀$): Las medias de todos los grupos son iguales.\n",
    "- **Hipótesis alternativa** ($H₁$): Al menos una de las medias del grupo es diferente.\n",
    "\n",
    "Si el resultado de la prueba ANOVA es significativo (por ejemplo, un valor p inferior a un umbral como 0,05), esto sugiere que al menos la media de un grupo es diferente."
   ]
  },
  {
   "cell_type": "markdown",
   "id": "fc5f3721",
   "metadata": {},
   "source": [
    "## Ejercicio 2\n",
    "\n",
    "Un agricultor decide probar tres tipos diferentes de fertilizantes para determinar si alguno es superior en términos de producción de maíz. El agricultor planta maíz en 15 parcelas idénticas y utiliza los tres fertilizantes (5 parcelas para cada tipo). Al final de la temporada mide el rendimiento de maíz (en kg) de cada parcela, con el siguiente resultado:\n",
    "\n",
    "| Fertilizante 1 | Fertilizante 2 | Fertilizante 3 |\n",
    "|:-------------|:-------------|:-------------|\n",
    "| 20 | 22 | 24 |\n",
    "| 21 | 21 | 23 |\n",
    "| 20 | 23 | 22 |\n",
    "| 19 | 22 | 23 |\n",
    "| 20 | 21 | 24 |\n",
    "\n",
    "Con estos datos busca responder la siguiente pregunta: ¿Existe una diferencia significativa en el rendimiento promedio del maíz entre los tres tipos de fertilizantes?\n",
    "\n",
    "Para ayudarte, sigue los siguientes puntos:\n",
    "\n",
    "-Enunciar la hipótesis: hipótesis nula y alternativa.\n",
    "-Realizar la prueba ANOVA.\n",
    "-Analizar las conclusiones.\n",
    "-Si un fertilizante es mejor que otro, ¿cómo podemos saberlo?"
   ]
  },
  {
   "cell_type": "code",
   "execution_count": 98,
   "id": "eecad0ca",
   "metadata": {},
   "outputs": [
    {
     "name": "stdout",
     "output_type": "stream",
     "text": [
      " T_stat:  20.315789473684188\n",
      " P_value:  0.00014047824793190475\n",
      "Rechazamos la hipótesis nula, podemos afirmar que uno de los fertilizantes es mejor que el resto con seguridad\n",
      "Tukey's HSD Pairwise Group Comparisons (95.0% Confidence Interval)\n",
      "Comparison  Statistic  p-value  Lower CI  Upper CI\n",
      " (0 - 1)     -1.800     0.010    -3.143    -0.457\n",
      " (0 - 2)     -3.200     0.000    -4.543    -1.857\n",
      " (1 - 0)      1.800     0.010     0.457     3.143\n",
      " (1 - 2)     -1.400     0.041    -2.743    -0.057\n",
      " (2 - 0)      3.200     0.000     1.857     4.543\n",
      " (2 - 1)      1.400     0.041     0.057     2.743\n",
      "\n",
      "Aquí podemos ver como la diferencia entre las sumas de las medias del grupo de fertilizantes 3 (las dos últimas líneas) es bastante mayor, haciendo que este sea mucho mejor fertilizante frente a los otros dos\n"
     ]
    }
   ],
   "source": [
    "import pandas as pd\n",
    "from scipy.stats import tukey_hsd\n",
    "\n",
    "#Hipótesis nula = no hay fertilizantes que sean mejor que otros\n",
    "#Hipotésis alternativa = uno de los 3 fertilizantes es mejor que el resto\n",
    "\n",
    "\n",
    "#aquí tenemos los valores de los kg sacados de cada parcela con los distintos fertilizantes\n",
    "\n",
    "fertilizante_1 = [20, 21, 20, 19, 20]\n",
    "fertilizante_2 = [22, 21, 23, 22, 21]\n",
    "fertilizante_3 = [24, 23, 22, 23, 24]\n",
    "\n",
    "\n",
    "\n",
    "t_stat, p_valor = stats.f_oneway(fertilizante_1, fertilizante_2, fertilizante_3)\n",
    "print(f\" T_stat: \", (t_stat))\n",
    "print(f\" P_value: \", (p_valor))\n",
    "\n",
    "print(f\"Rechazamos la hipótesis nula, podemos afirmar que uno de los fertilizantes es mejor que el resto con seguridad\")\n",
    "\n",
    "#convertimos a diccionario para hacerlo DF y poder usar Tukey\n",
    "\n",
    "dic_fertilizantes = {\"f1\":fertilizante_1, \"f2\": fertilizante_2, \"f3\": fertilizante_3}\n",
    "df_fertilizantes = pd.DataFrame(dic_fertilizantes)\n",
    "#df_fertilizantes\n",
    "\n",
    "tukey_resultado = tukey_hsd(fertilizante_1, fertilizante_2, fertilizante_3)\n",
    "print(tukey_resultado)\n",
    "\n",
    "print(\"Aquí podemos ver como la diferencia entre las sumas de las medias del grupo de fertilizantes 3 (las dos últimas líneas) es bastante mayor, haciendo que este sea mucho mejor fertilizante frente a los otros dos\")\n",
    "\n",
    "\n"
   ]
  }
 ],
 "metadata": {
  "kernelspec": {
   "display_name": "Python 3",
   "language": "python",
   "name": "python3"
  },
  "language_info": {
   "codemirror_mode": {
    "name": "ipython",
    "version": 3
   },
   "file_extension": ".py",
   "mimetype": "text/x-python",
   "name": "python",
   "nbconvert_exporter": "python",
   "pygments_lexer": "ipython3",
   "version": "3.11.4"
  }
 },
 "nbformat": 4,
 "nbformat_minor": 5
}
